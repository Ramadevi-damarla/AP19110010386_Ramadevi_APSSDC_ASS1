{
 "cells": [
  {
   "cell_type": "code",
   "execution_count": 4,
   "metadata": {},
   "outputs": [
    {
     "name": "stdout",
     "output_type": "stream",
     "text": [
      "Enter the list: ramadevi\n",
      "Enter the list: rama\n",
      "True\n"
     ]
    }
   ],
   "source": [
    "list1 = set(input(\"Enter the list: \"))\n",
    "list2 = set(input(\"Enter the list: \"))\n",
    "if len(list1.intersection(list2)) > 0:\n",
    "    print(\"True\")\n",
    "else:\n",
    "    print(\"False\")"
   ]
  },
  {
   "cell_type": "code",
   "execution_count": 5,
   "metadata": {},
   "outputs": [
    {
     "name": "stdout",
     "output_type": "stream",
     "text": [
      "Enter the list: devi\n",
      "Enter the list: satya\n",
      "False\n"
     ]
    }
   ],
   "source": [
    "list1 = set(input(\"Enter the list: \"))\n",
    "list2 = set(input(\"Enter the list: \"))\n",
    "if len(list1.intersection(list2)) > 0:\n",
    "    print(\"True\")\n",
    "else:\n",
    "    print(\"False\")"
   ]
  }
 ],
 "metadata": {
  "kernelspec": {
   "display_name": "Python 3",
   "language": "python",
   "name": "python3"
  },
  "language_info": {
   "codemirror_mode": {
    "name": "ipython",
    "version": 3
   },
   "file_extension": ".py",
   "mimetype": "text/x-python",
   "name": "python",
   "nbconvert_exporter": "python",
   "pygments_lexer": "ipython3",
   "version": "3.7.4"
  }
 },
 "nbformat": 4,
 "nbformat_minor": 2
}
