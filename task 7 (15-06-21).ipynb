{
 "cells": [
  {
   "cell_type": "markdown",
   "metadata": {},
   "source": [
    "## task\n",
    "* create a function for finding the leap years within the give range\n",
    "* creat a function for getting the armstrong number within the given range\n",
    "* create a function for getting the prime number within the range\n",
    "* create the function for finding the count fo elements in a string. \"SRM University\""
   ]
  },
  {
   "cell_type": "code",
   "execution_count": 4,
   "metadata": {},
   "outputs": [
    {
     "name": "stdout",
     "output_type": "stream",
     "text": [
      "Enter the starting year: 1999\n",
      "Enter the ending year: 2030\n",
      "Leap years between the range 1999 to 2030 are as follows: \n",
      "2000\n",
      "2004\n",
      "2008\n",
      "2012\n",
      "2016\n",
      "2020\n",
      "2024\n",
      "2028\n"
     ]
    }
   ],
   "source": [
    "# create a function for finding the leap years within the give range\n",
    "def leap(n):\n",
    "    if (n%4==0 and n%100!=0 or n%400==0):\n",
    "        return True\n",
    "    else:\n",
    "        return False\n",
    "start = int(input(\"Enter the starting year: \"))\n",
    "end = int(input(\"Enter the ending year: \"))\n",
    "print(\"Leap years between the range\", start, \"to\", end, \"are as follows: \")\n",
    "for i in range(start, end):\n",
    "    if leap(i) == True:\n",
    "        print(i)"
   ]
  },
  {
   "cell_type": "code",
   "execution_count": 14,
   "metadata": {},
   "outputs": [
    {
     "name": "stdout",
     "output_type": "stream",
     "text": [
      "Enter the start number: 1\n",
      "Enter the final number: 100\n",
      "The Armstrong numbers from 1 to 100 are\n",
      "1\n",
      "2\n",
      "3\n",
      "4\n",
      "5\n",
      "6\n",
      "7\n",
      "8\n",
      "9\n"
     ]
    }
   ],
   "source": [
    "# creat a function for getting the armstrong number within the given range\n",
    "def armstrong(a, b):\n",
    "    for i in range(a, b+1):\n",
    "        num = i\n",
    "        result = 0\n",
    "        n = len(str(i))\n",
    "        while(i != 0):\n",
    "            digit = i % 10\n",
    "            result = result + digit ** n\n",
    "            i = i//10\n",
    "        if num == result:\n",
    "            print(num)\n",
    "start = int(input(\"Enter the start number: \"))\n",
    "end = int(input(\"Enter the final number: \"))\n",
    "print(\"The Armstrong numbers from\", start, \"to\", end, \"are as follows: \")\n",
    "armstrong(start, end)"
   ]
  },
  {
   "cell_type": "code",
   "execution_count": 16,
   "metadata": {},
   "outputs": [
    {
     "name": "stdout",
     "output_type": "stream",
     "text": [
      "Enter the start number: 1\n",
      "Enter the end number: 50\n",
      "Prime numbers between 1 to 50 are as follows: \n",
      "1\n",
      "2\n",
      "3\n",
      "5\n",
      "7\n",
      "11\n",
      "13\n",
      "17\n",
      "19\n",
      "23\n",
      "29\n",
      "31\n",
      "37\n",
      "41\n",
      "43\n",
      "47\n"
     ]
    }
   ],
   "source": [
    "# create a function for getting the prime number within the range\n",
    "def prime_number(a, b):\n",
    "    for num in range(a, b+1):\n",
    "        for i in range(2, num):\n",
    "            if num%i == 0:\n",
    "                break\n",
    "        else:\n",
    "            print(num)\n",
    "    \n",
    "start = int(input(\"Enter the start number: \"))\n",
    "end = int(input(\"Enter the end number: \"))\n",
    "print(\"Prime numbers between\", start, \"to\", end, \"are as follows: \")\n",
    "prime_number(start,end)"
   ]
  },
  {
   "cell_type": "code",
   "execution_count": 19,
   "metadata": {},
   "outputs": [
    {
     "name": "stdout",
     "output_type": "stream",
     "text": [
      "Enter a string: SRM University\n",
      "Count of elements in the string is: 14\n"
     ]
    }
   ],
   "source": [
    "# create the function for finding the count fo elements in a string. \"SRM University\"\n",
    "def count_string(string):\n",
    "    count_str = 0\n",
    "    for i in string:\n",
    "        count_str = count_str + 1\n",
    "    return count_str \n",
    "string = input(\"Enter a string: \")\n",
    "print(\"Count of elements in the string is:\",count_string(string))"
   ]
  }
 ],
 "metadata": {
  "kernelspec": {
   "display_name": "Python 3",
   "language": "python",
   "name": "python3"
  },
  "language_info": {
   "codemirror_mode": {
    "name": "ipython",
    "version": 3
   },
   "file_extension": ".py",
   "mimetype": "text/x-python",
   "name": "python",
   "nbconvert_exporter": "python",
   "pygments_lexer": "ipython3",
   "version": "3.7.4"
  }
 },
 "nbformat": 4,
 "nbformat_minor": 2
}
