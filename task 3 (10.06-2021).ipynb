{
 "cells": [
  {
   "cell_type": "markdown",
   "metadata": {},
   "source": [
    "-take input from user\n",
    "-check length of the string even or odd\n",
    "-if odd print middle letter\n",
    "-if even print the middle two letters\n"
   ]
  },
  {
   "cell_type": "code",
   "execution_count": 3,
   "metadata": {},
   "outputs": [
    {
     "name": "stdout",
     "output_type": "stream",
     "text": [
      "Enter a string: Happy\n",
      "p\n"
     ]
    }
   ],
   "source": [
    "string = input(\"Enter a string: \")\n",
    "if len(string)%2!=0:\n",
    "    print(string[len(string)//2])\n",
    "else:\n",
    "    print(string[(len(string)//2)-1],string[len(string)//2])"
   ]
  },
  {
   "cell_type": "code",
   "execution_count": 4,
   "metadata": {},
   "outputs": [
    {
     "name": "stdout",
     "output_type": "stream",
     "text": [
      "Enter a string: Ramadevi\n",
      "a d\n"
     ]
    }
   ],
   "source": [
    "string = input(\"Enter a string: \")\n",
    "if len(string)%2!=0:\n",
    "    print(string[len(string)//2])\n",
    "else:\n",
    "    print(string[(len(string)//2)-1],string[len(string)//2])"
   ]
  }
 ],
 "metadata": {
  "kernelspec": {
   "display_name": "Python 3",
   "language": "python",
   "name": "python3"
  },
  "language_info": {
   "codemirror_mode": {
    "name": "ipython",
    "version": 3
   },
   "file_extension": ".py",
   "mimetype": "text/x-python",
   "name": "python",
   "nbconvert_exporter": "python",
   "pygments_lexer": "ipython3",
   "version": "3.7.4"
  }
 },
 "nbformat": 4,
 "nbformat_minor": 2
}
