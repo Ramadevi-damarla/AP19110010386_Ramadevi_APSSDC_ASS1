{
 "cells": [
  {
   "cell_type": "markdown",
   "metadata": {},
   "source": [
    "- write a program in module\n",
    "- ask the user to enter the data\n",
    "- check the data if it's camelcase print Like (Thumbsup)emoji\n",
    "- else convert the data into camelcase then speakout Successfully converted your data into camel case"
   ]
  },
  {
   "cell_type": "code",
   "execution_count": 3,
   "metadata": {},
   "outputs": [],
   "source": [
    "from packages import task8module"
   ]
  },
  {
   "cell_type": "code",
   "execution_count": 4,
   "metadata": {},
   "outputs": [
    {
     "name": "stdout",
     "output_type": "stream",
     "text": [
      "Enter the data: hello, this is Ramadevi-AP19110010386\n",
      "Hello, This is Ramadevi-AP19110010386\n"
     ]
    }
   ],
   "source": [
    "task8module.camel_case()"
   ]
  },
  {
   "cell_type": "code",
   "execution_count": 5,
   "metadata": {},
   "outputs": [
    {
     "name": "stdout",
     "output_type": "stream",
     "text": [
      "Enter the data: Hello I Am Ramadevi\n",
      "👍\n"
     ]
    }
   ],
   "source": [
    "task8module.camel_case()"
   ]
  }
 ],
 "metadata": {
  "kernelspec": {
   "display_name": "Python 3",
   "language": "python",
   "name": "python3"
  },
  "language_info": {
   "codemirror_mode": {
    "name": "ipython",
    "version": 3
   },
   "file_extension": ".py",
   "mimetype": "text/x-python",
   "name": "python",
   "nbconvert_exporter": "python",
   "pygments_lexer": "ipython3",
   "version": "3.7.4"
  }
 },
 "nbformat": 4,
 "nbformat_minor": 2
}
