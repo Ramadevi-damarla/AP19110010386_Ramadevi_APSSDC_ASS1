{
 "cells": [
  {
   "cell_type": "markdown",
   "metadata": {},
   "source": [
    "## Task:\n",
    "\n",
    "* Generate 3 digit otp from 2 different classes(mail class and phone class)\n",
    "* return 6 digits otp from both baseclasses(super classes)"
   ]
  },
  {
   "cell_type": "code",
   "execution_count": 61,
   "metadata": {},
   "outputs": [],
   "source": [
    "import random"
   ]
  },
  {
   "cell_type": "code",
   "execution_count": 66,
   "metadata": {},
   "outputs": [],
   "source": [
    "class MailClass():\n",
    "    def __init__(self):\n",
    "        self.OTP1 = random.randint(000,999)\n",
    "        print(\"3-digit OTP is: \",self.OTP1)\n",
    "class PhoneClass():\n",
    "    def __init__(self):\n",
    "        self.OTP2 = random.randint(000,999)\n",
    "        print(\"3-digit OTP is: \", self.OTP2)\n",
    "class BaseClass():\n",
    "    def __init__(self):\n",
    "        MailClass.__init__(self)\n",
    "        PhoneClass.__init__(self)\n",
    "        print(\"6-digit OTP is: \",(str(self.OTP1)+str(self.OTP2)))"
   ]
  },
  {
   "cell_type": "code",
   "execution_count": 67,
   "metadata": {},
   "outputs": [
    {
     "name": "stdout",
     "output_type": "stream",
     "text": [
      "3-digit OTP is:  339\n"
     ]
    }
   ],
   "source": [
    "otp_1 = MailClass()"
   ]
  },
  {
   "cell_type": "code",
   "execution_count": 68,
   "metadata": {},
   "outputs": [
    {
     "name": "stdout",
     "output_type": "stream",
     "text": [
      "3-digit OTP is:  751\n"
     ]
    }
   ],
   "source": [
    "otp_2 = PhoneClass()"
   ]
  },
  {
   "cell_type": "code",
   "execution_count": 69,
   "metadata": {},
   "outputs": [
    {
     "name": "stdout",
     "output_type": "stream",
     "text": [
      "3-digit OTP is:  231\n",
      "3-digit OTP is:  776\n",
      "6-digit OTP is:  231776\n"
     ]
    }
   ],
   "source": [
    "otp_3 = BaseClass()"
   ]
  }
 ],
 "metadata": {
  "kernelspec": {
   "display_name": "Python 3",
   "language": "python",
   "name": "python3"
  },
  "language_info": {
   "codemirror_mode": {
    "name": "ipython",
    "version": 3
   },
   "file_extension": ".py",
   "mimetype": "text/x-python",
   "name": "python",
   "nbconvert_exporter": "python",
   "pygments_lexer": "ipython3",
   "version": "3.7.4"
  }
 },
 "nbformat": 4,
 "nbformat_minor": 2
}
