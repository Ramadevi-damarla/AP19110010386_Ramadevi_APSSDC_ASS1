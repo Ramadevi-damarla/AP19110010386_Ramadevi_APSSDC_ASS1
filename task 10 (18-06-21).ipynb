{
 "cells": [
  {
   "cell_type": "code",
   "execution_count": 7,
   "metadata": {},
   "outputs": [
    {
     "name": "stdout",
     "output_type": "stream",
     "text": [
      "## File handling\n",
      "* build in functions\n",
      "    * open()\n",
      "    * close()\n",
      "* w -- write()---write into the file\n",
      "* r -- read file already created\n",
      "    * read()--reading all line from file\n",
      "    * readline()--reading a single at a time\n",
      "    * readlines()--reading line by line\n",
      "* a -- appends the data ==  write()\n",
      "\n"
     ]
    }
   ],
   "source": [
    "f = open(\"file1.txt\", 'r')\n",
    "print(f.read())\n",
    "f.close()"
   ]
  },
  {
   "cell_type": "code",
   "execution_count": 9,
   "metadata": {},
   "outputs": [
    {
     "name": "stdout",
     "output_type": "stream",
     "text": [
      "['* r -- read file already created\\n', '    * read()--reading all line from file\\n', '    * readline()--reading a single at a time\\n', '    * readlines()--reading line by line\\n', '* a -- appends the data ==  write()\\n']\n"
     ]
    }
   ],
   "source": [
    "## write a program for accessing last five lines from file\n",
    "f = open(\"file1.txt\",'r')\n",
    "lines = f.readlines()\n",
    "last_lines = lines[-5:]\n",
    "print(last_lines)"
   ]
  },
  {
   "cell_type": "code",
   "execution_count": 10,
   "metadata": {},
   "outputs": [],
   "source": [
    "#Create a function for appending the data into the file.\n",
    "def append():\n",
    "    f=open('file1.txt', 'a')\n",
    "    f.write(\"This is the new appended data \\n\")\n",
    "    f.close()\n",
    "append()"
   ]
  },
  {
   "cell_type": "code",
   "execution_count": 11,
   "metadata": {},
   "outputs": [
    {
     "name": "stdout",
     "output_type": "stream",
     "text": [
      "## File handling\n",
      "* build in functions\n",
      "    * open()\n",
      "    * close()\n",
      "* w -- write()---write into the file\n",
      "* r -- read file already created\n",
      "    * read()--reading all line from file\n",
      "    * readline()--reading a single at a time\n",
      "    * readlines()--reading line by line\n",
      "* a -- appends the data ==  write()\n",
      "This is the new appended data \n",
      "\n"
     ]
    }
   ],
   "source": [
    "f = open(\"file1.txt\", 'r')\n",
    "print(f.read())\n",
    "f.close()"
   ]
  },
  {
   "cell_type": "code",
   "execution_count": 13,
   "metadata": {},
   "outputs": [
    {
     "name": "stdout",
     "output_type": "stream",
     "text": [
      "Updated Data: Updated word\n",
      "File handling updated line\n",
      "* build in functions\n",
      "    * open()\n",
      "    * close()\n",
      "* w -- write()---write into the file\n",
      "* r -- read file already created\n",
      "    * read()--reading all line from file\n",
      "    * readline()--reading a single at a time\n",
      "    * readlines()--reading line by line\n",
      "* a -- appends the data ==  write()\n",
      "This is the new Updated word data \n",
      "\n"
     ]
    }
   ],
   "source": [
    "# create a program for updating a word in the file\n",
    "import re\n",
    "with open('file1.txt','r+') as f:\n",
    "    text = f.read()\n",
    "    text = re.sub('appended', input(\"Updated Data: \"), text)\n",
    "    f.seek(0)\n",
    "    f.write(text)\n",
    "    f.truncate()\n",
    "f = open('file1.txt')\n",
    "print(f.read())"
   ]
  }
 ],
 "metadata": {
  "kernelspec": {
   "display_name": "Python 3",
   "language": "python",
   "name": "python3"
  },
  "language_info": {
   "codemirror_mode": {
    "name": "ipython",
    "version": 3
   },
   "file_extension": ".py",
   "mimetype": "text/x-python",
   "name": "python",
   "nbconvert_exporter": "python",
   "pygments_lexer": "ipython3",
   "version": "3.7.4"
  }
 },
 "nbformat": 4,
 "nbformat_minor": 2
}
