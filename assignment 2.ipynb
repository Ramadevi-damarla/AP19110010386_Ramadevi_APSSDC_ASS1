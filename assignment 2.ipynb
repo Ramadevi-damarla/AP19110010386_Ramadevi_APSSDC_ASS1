{
 "cells": [
  {
   "cell_type": "code",
   "execution_count": 2,
   "metadata": {},
   "outputs": [
    {
     "name": "stdout",
     "output_type": "stream",
     "text": [
      "Your roll number: AP19110010126\n",
      "Belongs to CSE\n"
     ]
    }
   ],
   "source": [
    "RollNo = input(\"Your roll number: \")\n",
    "if RollNo[-4:].startswith('01'):\n",
    "    print(\"Belongs to CSE\")\n",
    "elif RollNo[-4:].startswith('11'):\n",
    "    print(\"Belongs to IT\")\n",
    "elif RollNo[-4:].startswith('21'):\n",
    "    print(\"Belongs to ECE\")\n",
    "else:\n",
    "    print(\"Not a SRM student\")"
   ]
  },
  {
   "cell_type": "code",
   "execution_count": 3,
   "metadata": {},
   "outputs": [
    {
     "name": "stdout",
     "output_type": "stream",
     "text": [
      "Your roll number: AP19110011123\n",
      "Belongs to IT\n"
     ]
    }
   ],
   "source": [
    "RollNo = input(\"Your roll number: \")\n",
    "if RollNo[-4:].startswith('01'):\n",
    "    print(\"Belongs to CSE\")\n",
    "elif RollNo[-4:].startswith('11'):\n",
    "    print(\"Belongs to IT\")\n",
    "elif RollNo[-4:].startswith('21'):\n",
    "    print(\"Belongs to ECE\")\n",
    "else:\n",
    "    print(\"Not a SRM student\")"
   ]
  },
  {
   "cell_type": "code",
   "execution_count": 4,
   "metadata": {},
   "outputs": [
    {
     "name": "stdout",
     "output_type": "stream",
     "text": [
      "Your roll number: AP191100102134\n",
      "Belongs to ECE\n"
     ]
    }
   ],
   "source": [
    "RollNo = input(\"Your roll number: \")\n",
    "if RollNo[-4:].startswith('01'):\n",
    "    print(\"Belongs to CSE\")\n",
    "elif RollNo[-4:].startswith('11'):\n",
    "    print(\"Belongs to IT\")\n",
    "elif RollNo[-4:].startswith('21'):\n",
    "    print(\"Belongs to ECE\")\n",
    "else:\n",
    "    print(\"Not a SRM student\")"
   ]
  },
  {
   "cell_type": "code",
   "execution_count": 5,
   "metadata": {},
   "outputs": [
    {
     "name": "stdout",
     "output_type": "stream",
     "text": [
      "Your roll number: AP19110010386\n",
      "Not a SRM student\n"
     ]
    }
   ],
   "source": [
    "RollNo = input(\"Your roll number: \")\n",
    "if RollNo[-4:].startswith('01'):\n",
    "    print(\"Belongs to CSE\")\n",
    "elif RollNo[-4:].startswith('11'):\n",
    "    print(\"Belongs to IT\")\n",
    "elif RollNo[-4:].startswith('21'):\n",
    "    print(\"Belongs to ECE\")\n",
    "else:\n",
    "    print(\"Not a SRM student\")"
   ]
  }
 ],
 "metadata": {
  "kernelspec": {
   "display_name": "Python 3",
   "language": "python",
   "name": "python3"
  },
  "language_info": {
   "codemirror_mode": {
    "name": "ipython",
    "version": 3
   },
   "file_extension": ".py",
   "mimetype": "text/x-python",
   "name": "python",
   "nbconvert_exporter": "python",
   "pygments_lexer": "ipython3",
   "version": "3.7.4"
  }
 },
 "nbformat": 4,
 "nbformat_minor": 2
}
